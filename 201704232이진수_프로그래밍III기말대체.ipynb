{
 "cells": [
  {
   "cell_type": "markdown",
   "id": "ee877661",
   "metadata": {},
   "source": [
    "#        　　　　  　　　프로그래밍III 기말대체과제"
   ]
  },
  {
   "cell_type": "markdown",
   "id": "bd53e672",
   "metadata": {},
   "source": [
    "<div style=\"text-align: right\"> 201704232 산업데이터 사이언스학부 </div>"
   ]
  },
  {
   "cell_type": "markdown",
   "id": "d8600eb7",
   "metadata": {},
   "source": [
    "<div style=\"text-align: right\">  이진수 </div>"
   ]
  },
  {
   "cell_type": "markdown",
   "id": "af9a9fe1",
   "metadata": {},
   "source": [
    "---"
   ]
  },
  {
   "cell_type": "markdown",
   "id": "576ab02c",
   "metadata": {},
   "source": [
    "## 이동 통신 사용자 데이터 설명"
   ]
  },
  {
   "cell_type": "code",
   "execution_count": 1,
   "id": "813bbef5",
   "metadata": {},
   "outputs": [],
   "source": [
    "import pandas as pd\n",
    "import numpy as np\n",
    "tel = pd.read_csv('telco.csv')"
   ]
  },
  {
   "cell_type": "code",
   "execution_count": 2,
   "id": "256e0397",
   "metadata": {},
   "outputs": [
    {
     "data": {
      "text/html": [
       "<div>\n",
       "<style scoped>\n",
       "    .dataframe tbody tr th:only-of-type {\n",
       "        vertical-align: middle;\n",
       "    }\n",
       "\n",
       "    .dataframe tbody tr th {\n",
       "        vertical-align: top;\n",
       "    }\n",
       "\n",
       "    .dataframe thead th {\n",
       "        text-align: right;\n",
       "    }\n",
       "</style>\n",
       "<table border=\"1\" class=\"dataframe\">\n",
       "  <thead>\n",
       "    <tr style=\"text-align: right;\">\n",
       "      <th></th>\n",
       "      <th>Leave</th>\n",
       "      <th>MemberWeeks</th>\n",
       "      <th>NewContract</th>\n",
       "      <th>IsData</th>\n",
       "      <th>DataAmount</th>\n",
       "      <th>Callcenter</th>\n",
       "      <th>CalMins</th>\n",
       "      <th>CalCounts</th>\n",
       "      <th>MonthlyFee</th>\n",
       "      <th>OverFee</th>\n",
       "      <th>RoamingMin</th>\n",
       "    </tr>\n",
       "  </thead>\n",
       "  <tbody>\n",
       "    <tr>\n",
       "      <th>0</th>\n",
       "      <td>0</td>\n",
       "      <td>128</td>\n",
       "      <td>1</td>\n",
       "      <td>1</td>\n",
       "      <td>2.70</td>\n",
       "      <td>1</td>\n",
       "      <td>265.1</td>\n",
       "      <td>110</td>\n",
       "      <td>89.0</td>\n",
       "      <td>9.87</td>\n",
       "      <td>10.0</td>\n",
       "    </tr>\n",
       "    <tr>\n",
       "      <th>1</th>\n",
       "      <td>0</td>\n",
       "      <td>107</td>\n",
       "      <td>1</td>\n",
       "      <td>1</td>\n",
       "      <td>3.70</td>\n",
       "      <td>1</td>\n",
       "      <td>161.6</td>\n",
       "      <td>123</td>\n",
       "      <td>82.0</td>\n",
       "      <td>9.78</td>\n",
       "      <td>13.7</td>\n",
       "    </tr>\n",
       "    <tr>\n",
       "      <th>2</th>\n",
       "      <td>0</td>\n",
       "      <td>137</td>\n",
       "      <td>1</td>\n",
       "      <td>0</td>\n",
       "      <td>0.00</td>\n",
       "      <td>0</td>\n",
       "      <td>243.4</td>\n",
       "      <td>114</td>\n",
       "      <td>52.0</td>\n",
       "      <td>6.06</td>\n",
       "      <td>12.2</td>\n",
       "    </tr>\n",
       "    <tr>\n",
       "      <th>3</th>\n",
       "      <td>0</td>\n",
       "      <td>84</td>\n",
       "      <td>0</td>\n",
       "      <td>0</td>\n",
       "      <td>0.00</td>\n",
       "      <td>2</td>\n",
       "      <td>299.4</td>\n",
       "      <td>71</td>\n",
       "      <td>57.0</td>\n",
       "      <td>3.10</td>\n",
       "      <td>6.6</td>\n",
       "    </tr>\n",
       "    <tr>\n",
       "      <th>4</th>\n",
       "      <td>0</td>\n",
       "      <td>75</td>\n",
       "      <td>0</td>\n",
       "      <td>0</td>\n",
       "      <td>0.00</td>\n",
       "      <td>3</td>\n",
       "      <td>166.7</td>\n",
       "      <td>113</td>\n",
       "      <td>41.0</td>\n",
       "      <td>7.42</td>\n",
       "      <td>10.1</td>\n",
       "    </tr>\n",
       "    <tr>\n",
       "      <th>...</th>\n",
       "      <td>...</td>\n",
       "      <td>...</td>\n",
       "      <td>...</td>\n",
       "      <td>...</td>\n",
       "      <td>...</td>\n",
       "      <td>...</td>\n",
       "      <td>...</td>\n",
       "      <td>...</td>\n",
       "      <td>...</td>\n",
       "      <td>...</td>\n",
       "      <td>...</td>\n",
       "    </tr>\n",
       "    <tr>\n",
       "      <th>3328</th>\n",
       "      <td>0</td>\n",
       "      <td>192</td>\n",
       "      <td>1</td>\n",
       "      <td>1</td>\n",
       "      <td>2.67</td>\n",
       "      <td>2</td>\n",
       "      <td>156.2</td>\n",
       "      <td>77</td>\n",
       "      <td>71.7</td>\n",
       "      <td>10.78</td>\n",
       "      <td>9.9</td>\n",
       "    </tr>\n",
       "    <tr>\n",
       "      <th>3329</th>\n",
       "      <td>0</td>\n",
       "      <td>68</td>\n",
       "      <td>1</td>\n",
       "      <td>0</td>\n",
       "      <td>0.34</td>\n",
       "      <td>3</td>\n",
       "      <td>231.1</td>\n",
       "      <td>57</td>\n",
       "      <td>56.4</td>\n",
       "      <td>7.67</td>\n",
       "      <td>9.6</td>\n",
       "    </tr>\n",
       "    <tr>\n",
       "      <th>3330</th>\n",
       "      <td>0</td>\n",
       "      <td>28</td>\n",
       "      <td>1</td>\n",
       "      <td>0</td>\n",
       "      <td>0.00</td>\n",
       "      <td>2</td>\n",
       "      <td>180.8</td>\n",
       "      <td>109</td>\n",
       "      <td>56.0</td>\n",
       "      <td>14.44</td>\n",
       "      <td>14.1</td>\n",
       "    </tr>\n",
       "    <tr>\n",
       "      <th>3331</th>\n",
       "      <td>0</td>\n",
       "      <td>184</td>\n",
       "      <td>0</td>\n",
       "      <td>0</td>\n",
       "      <td>0.00</td>\n",
       "      <td>2</td>\n",
       "      <td>213.8</td>\n",
       "      <td>105</td>\n",
       "      <td>50.0</td>\n",
       "      <td>7.98</td>\n",
       "      <td>5.0</td>\n",
       "    </tr>\n",
       "    <tr>\n",
       "      <th>3332</th>\n",
       "      <td>0</td>\n",
       "      <td>74</td>\n",
       "      <td>1</td>\n",
       "      <td>1</td>\n",
       "      <td>3.70</td>\n",
       "      <td>0</td>\n",
       "      <td>234.4</td>\n",
       "      <td>113</td>\n",
       "      <td>100.0</td>\n",
       "      <td>13.30</td>\n",
       "      <td>13.7</td>\n",
       "    </tr>\n",
       "  </tbody>\n",
       "</table>\n",
       "<p>3333 rows × 11 columns</p>\n",
       "</div>"
      ],
      "text/plain": [
       "      Leave  MemberWeeks  NewContract  IsData  DataAmount  Callcenter  \\\n",
       "0         0          128            1       1        2.70           1   \n",
       "1         0          107            1       1        3.70           1   \n",
       "2         0          137            1       0        0.00           0   \n",
       "3         0           84            0       0        0.00           2   \n",
       "4         0           75            0       0        0.00           3   \n",
       "...     ...          ...          ...     ...         ...         ...   \n",
       "3328      0          192            1       1        2.67           2   \n",
       "3329      0           68            1       0        0.34           3   \n",
       "3330      0           28            1       0        0.00           2   \n",
       "3331      0          184            0       0        0.00           2   \n",
       "3332      0           74            1       1        3.70           0   \n",
       "\n",
       "      CalMins  CalCounts  MonthlyFee  OverFee  RoamingMin  \n",
       "0       265.1        110        89.0     9.87        10.0  \n",
       "1       161.6        123        82.0     9.78        13.7  \n",
       "2       243.4        114        52.0     6.06        12.2  \n",
       "3       299.4         71        57.0     3.10         6.6  \n",
       "4       166.7        113        41.0     7.42        10.1  \n",
       "...       ...        ...         ...      ...         ...  \n",
       "3328    156.2         77        71.7    10.78         9.9  \n",
       "3329    231.1         57        56.4     7.67         9.6  \n",
       "3330    180.8        109        56.0    14.44        14.1  \n",
       "3331    213.8        105        50.0     7.98         5.0  \n",
       "3332    234.4        113       100.0    13.30        13.7  \n",
       "\n",
       "[3333 rows x 11 columns]"
      ]
     },
     "execution_count": 2,
     "metadata": {},
     "output_type": "execute_result"
    }
   ],
   "source": [
    "tel # 이동통신 총 사용자는 3333명이다."
   ]
  },
  {
   "cell_type": "markdown",
   "id": "9548478f",
   "metadata": {},
   "source": [
    "Leave\t가입해지여부(1이면 해지) <br>\n",
    "MemberWeeks\t가입기간 <br>\n",
    "NewContract\t가입갱신여부(1이면 갱신) <br>\n",
    "IsData\t데이터요금제사용여부(1이면 사용)  <br>\n",
    "DataAmount\t데이터사용량(GB) <br>\n",
    "Callcenter\t고객센터전화량 <br>\n",
    "CalMins\t월평균전화량(분) <br>\n",
    "CalCounts\t월평균전화수(횟수) <br>\n",
    "MonthlyFee\t월평균요금 <br>\n",
    "OverFee\t초과요금 <br>\n",
    "RoamingMin\t로밍시간(분)"
   ]
  },
  {
   "cell_type": "code",
   "execution_count": 3,
   "id": "88fca59a",
   "metadata": {},
   "outputs": [
    {
     "name": "stdout",
     "output_type": "stream",
     "text": [
      "<class 'pandas.core.frame.DataFrame'>\n",
      "RangeIndex: 3333 entries, 0 to 3332\n",
      "Data columns (total 11 columns):\n",
      " #   Column       Non-Null Count  Dtype  \n",
      "---  ------       --------------  -----  \n",
      " 0   Leave        3333 non-null   int64  \n",
      " 1   MemberWeeks  3333 non-null   int64  \n",
      " 2   NewContract  3333 non-null   int64  \n",
      " 3   IsData       3333 non-null   int64  \n",
      " 4   DataAmount   3333 non-null   float64\n",
      " 5   Callcenter   3333 non-null   int64  \n",
      " 6   CalMins      3333 non-null   float64\n",
      " 7   CalCounts    3333 non-null   int64  \n",
      " 8   MonthlyFee   3333 non-null   float64\n",
      " 9   OverFee      3333 non-null   float64\n",
      " 10  RoamingMin   3333 non-null   float64\n",
      "dtypes: float64(5), int64(6)\n",
      "memory usage: 286.6 KB\n"
     ]
    }
   ],
   "source": [
    "tel.info()"
   ]
  },
  {
   "cell_type": "code",
   "execution_count": 4,
   "id": "93868725",
   "metadata": {},
   "outputs": [
    {
     "data": {
      "text/plain": [
       "0    2850\n",
       "1     483\n",
       "Name: Leave, dtype: int64"
      ]
     },
     "execution_count": 4,
     "metadata": {},
     "output_type": "execute_result"
    }
   ],
   "source": [
    "tel.Leave.value_counts() #가입해지 여부가 있는 사람들은 총 483명이다."
   ]
  },
  {
   "cell_type": "markdown",
   "id": "d997e722",
   "metadata": {},
   "source": [
    "## 가입기간에 따른 고객 수"
   ]
  },
  {
   "cell_type": "code",
   "execution_count": 5,
   "id": "392fe761",
   "metadata": {
    "scrolled": true
   },
   "outputs": [
    {
     "data": {
      "text/plain": [
       "<AxesSubplot:>"
      ]
     },
     "execution_count": 5,
     "metadata": {},
     "output_type": "execute_result"
    },
    {
     "data": {
      "image/png": "[encoded data removed]",
      "text/plain": [
       "<Figure size 432x288 with 1 Axes>"
      ]
     },
     "metadata": {
      "needs_background": "light"
     },
     "output_type": "display_data"
    }
   ],
   "source": [
    "tel.MemberWeeks.hist(bins=10)"
   ]
  },
  {
   "cell_type": "markdown",
   "id": "7674619a",
   "metadata": {},
   "source": [
    "100~125주 약 25개월부터 32개월까지의 고객들이 많다."
   ]
  },
  {
   "cell_type": "markdown",
   "id": "34ef443e",
   "metadata": {},
   "source": [
    "##  가입해지 여부가 있는 이용자들의 고객센터 전화량과 없는 이용자들의 고객센터 전화량 평균 비교"
   ]
  },
  {
   "cell_type": "markdown",
   "id": "bd7089fe",
   "metadata": {},
   "source": [
    "저는 가입 해지 여부가 있는 이용자는 불만을 가지고 있기에 가입 해지할 여부가 있다는 것이라 생각한다.\n",
    "<br>그래서 가입해지를 한 사람들의 고객 센터 전화량의 평균 얼마나 되는지 알아보았다."
   ]
  },
  {
   "cell_type": "code",
   "execution_count": 6,
   "id": "dfe95bba",
   "metadata": {},
   "outputs": [],
   "source": [
    "tel_le1 = (tel['Leave']==1) #해지 여부가 있는 사람\n",
    "tel_le0 = (tel['Leave']==0) #해지 여부가 없는 사람"
   ]
  },
  {
   "cell_type": "code",
   "execution_count": 7,
   "id": "5a70a1f1",
   "metadata": {},
   "outputs": [
    {
     "data": {
      "text/plain": [
       "10      4\n",
       "15      4\n",
       "21      5\n",
       "33      1\n",
       "41      0\n",
       "       ..\n",
       "3301    0\n",
       "3304    4\n",
       "3320    4\n",
       "3322    4\n",
       "3323    5\n",
       "Name: Callcenter, Length: 483, dtype: int64"
      ]
     },
     "execution_count": 7,
     "metadata": {},
     "output_type": "execute_result"
    }
   ],
   "source": [
    "tel_call_1 = tel.Callcenter.loc[tel_le1,] #해지 여부가 있는 사람들의 고객센터 전화량\n",
    "tel_call_1"
   ]
  },
  {
   "cell_type": "markdown",
   "id": "447739f7",
   "metadata": {},
   "source": [
    "Length가 483으로 가입해지 여부가 있는 이용자의 수는 483명이다."
   ]
  },
  {
   "cell_type": "code",
   "execution_count": 8,
   "id": "d2876933",
   "metadata": {
    "scrolled": true
   },
   "outputs": [
    {
     "data": {
      "text/plain": [
       "2158    0\n",
       "2119    0\n",
       "2118    0\n",
       "2115    0\n",
       "2710    0\n",
       "       ..\n",
       "1694    7\n",
       "1865    7\n",
       "1912    8\n",
       "2380    9\n",
       "542     9\n",
       "Name: Callcenter, Length: 483, dtype: int64"
      ]
     },
     "execution_count": 8,
     "metadata": {},
     "output_type": "execute_result"
    }
   ],
   "source": [
    "tel_call_1.sort_values() #최대 9번까지 한 사람도 있다."
   ]
  },
  {
   "cell_type": "code",
   "execution_count": 9,
   "id": "b7e65ac0",
   "metadata": {},
   "outputs": [
    {
     "data": {
      "text/plain": [
       "<AxesSubplot:>"
      ]
     },
     "execution_count": 9,
     "metadata": {},
     "output_type": "execute_result"
    },
    {
     "data": {
      "image/png": "[encoded data removed]",
      "text/plain": [
       "<Figure size 432x288 with 1 Axes>"
      ]
     },
     "metadata": {
      "needs_background": "light"
     },
     "output_type": "display_data"
    }
   ],
   "source": [
    "tel_call_1.hist()"
   ]
  },
  {
   "cell_type": "code",
   "execution_count": 10,
   "id": "c0aa62e0",
   "metadata": {
    "scrolled": true
   },
   "outputs": [
    {
     "data": {
      "text/plain": [
       "2.2"
      ]
     },
     "execution_count": 10,
     "metadata": {},
     "output_type": "execute_result"
    }
   ],
   "source": [
    "round(tel_call_1.mean(),1) #해지 여부가 없는 사람들의 평균 고객센터 전화량"
   ]
  },
  {
   "cell_type": "code",
   "execution_count": 11,
   "id": "afe1cafe",
   "metadata": {},
   "outputs": [
    {
     "data": {
      "text/plain": [
       "0       1\n",
       "1       1\n",
       "2       0\n",
       "3       2\n",
       "4       3\n",
       "       ..\n",
       "3328    2\n",
       "3329    3\n",
       "3330    2\n",
       "3331    2\n",
       "3332    0\n",
       "Name: Callcenter, Length: 2850, dtype: int64"
      ]
     },
     "execution_count": 11,
     "metadata": {},
     "output_type": "execute_result"
    }
   ],
   "source": [
    "tel_call_0 = tel.Callcenter.loc[tel_le0,] #해지 여부가 없는 사람들의 고객센터 전화량\n",
    "tel_call_0"
   ]
  },
  {
   "cell_type": "markdown",
   "id": "e7f6727f",
   "metadata": {},
   "source": [
    "가입 해지 여부가 없는 이용자의 수는 총 2850명이다."
   ]
  },
  {
   "cell_type": "code",
   "execution_count": 12,
   "id": "f74b5bf9",
   "metadata": {
    "scrolled": true
   },
   "outputs": [
    {
     "data": {
      "text/plain": [
       "3332    0\n",
       "751     0\n",
       "2255    0\n",
       "2247    0\n",
       "763     0\n",
       "       ..\n",
       "522     7\n",
       "2953    7\n",
       "1831    7\n",
       "902     7\n",
       "1502    8\n",
       "Name: Callcenter, Length: 2850, dtype: int64"
      ]
     },
     "execution_count": 12,
     "metadata": {},
     "output_type": "execute_result"
    }
   ],
   "source": [
    "tel_call_0.sort_values()"
   ]
  },
  {
   "cell_type": "code",
   "execution_count": 13,
   "id": "4b7f8941",
   "metadata": {},
   "outputs": [
    {
     "data": {
      "text/plain": [
       "1    1059\n",
       "2     672\n",
       "0     605\n",
       "3     385\n",
       "4      90\n",
       "5      26\n",
       "6       8\n",
       "7       4\n",
       "8       1\n",
       "Name: Callcenter, dtype: int64"
      ]
     },
     "execution_count": 13,
     "metadata": {},
     "output_type": "execute_result"
    }
   ],
   "source": [
    "tel_call_0.value_counts()"
   ]
  },
  {
   "cell_type": "code",
   "execution_count": 14,
   "id": "328aea0d",
   "metadata": {},
   "outputs": [
    {
     "data": {
      "text/plain": [
       "<AxesSubplot:>"
      ]
     },
     "execution_count": 14,
     "metadata": {},
     "output_type": "execute_result"
    },
    {
     "data": {
      "image/png": "[encoded data removed]",
      "text/plain": [
       "<Figure size 432x288 with 1 Axes>"
      ]
     },
     "metadata": {
      "needs_background": "light"
     },
     "output_type": "display_data"
    }
   ],
   "source": [
    "tel_call_0.hist()\n",
    "# 대부분 1번은 했지만 그이후로 많이 하지는 않았다."
   ]
  },
  {
   "cell_type": "code",
   "execution_count": 15,
   "id": "69c98c78",
   "metadata": {
    "scrolled": true
   },
   "outputs": [
    {
     "data": {
      "text/plain": [
       "1.4"
      ]
     },
     "execution_count": 15,
     "metadata": {},
     "output_type": "execute_result"
    }
   ],
   "source": [
    "round(tel_call_0.mean(),1) #해지 안한 사람들의 평균 고객센터 전화량"
   ]
  },
  {
   "cell_type": "markdown",
   "id": "62649c82",
   "metadata": {},
   "source": [
    "#### 해지 여부 있는 사람들의 고객센터 전화량 평균 : 2.2\n",
    "#### 해지 여부 없는 사람들의 고객센터 전화량 평균 : 1.4"
   ]
  },
  {
   "cell_type": "markdown",
   "id": "fa290534",
   "metadata": {},
   "source": [
    "### 해지 여부가 있는 인원 : 483명   　　　　    해지 여부가 없는 인원 : 2850명\n",
    "### 해지 여부 있는 사용자들의 고객센터 전화량 평균이 여부가 없는 사용자들보다 높다는 것을 알 수 있다. \n"
   ]
  },
  {
   "cell_type": "markdown",
   "id": "802c40dc",
   "metadata": {},
   "source": [
    "---"
   ]
  },
  {
   "cell_type": "markdown",
   "id": "d7c931ce",
   "metadata": {},
   "source": [
    "## 데이터 요금제를 사용할 여부가 있는 이용자와 없는 이용자들의 수"
   ]
  },
  {
   "cell_type": "code",
   "execution_count": 16,
   "id": "b8275dbf",
   "metadata": {},
   "outputs": [
    {
     "data": {
      "text/plain": [
       "True     2411\n",
       "False     922\n",
       "Name: IsData, dtype: int64"
      ]
     },
     "execution_count": 16,
     "metadata": {},
     "output_type": "execute_result"
    }
   ],
   "source": [
    "tel_data = (tel['IsData']==0) \n",
    "tel_data.value_counts()"
   ]
  },
  {
   "cell_type": "markdown",
   "id": "834bbacc",
   "metadata": {},
   "source": [
    "데이터 요금제를 사용할 여부가 있는 사람 : 2411명 <br>\n",
    "데이터 요금제를 사용할 여부가 없는 사람 : 922명"
   ]
  },
  {
   "cell_type": "markdown",
   "id": "a84ccdc6",
   "metadata": {},
   "source": [
    "## 사람들의 평균 데이터 사용량"
   ]
  },
  {
   "cell_type": "code",
   "execution_count": 17,
   "id": "ea9f7864",
   "metadata": {},
   "outputs": [
    {
     "data": {
      "text/plain": [
       "0.82"
      ]
     },
     "execution_count": 17,
     "metadata": {},
     "output_type": "execute_result"
    }
   ],
   "source": [
    "round(tel['DataAmount'].mean(),2)"
   ]
  },
  {
   "cell_type": "markdown",
   "id": "82234959",
   "metadata": {},
   "source": [
    "사람들의 평균 데이터 사용량은 0.82GB 이다."
   ]
  },
  {
   "cell_type": "markdown",
   "id": "f96cdb5d",
   "metadata": {},
   "source": [
    "## 데이터를 가장 많이 사용한 사람"
   ]
  },
  {
   "cell_type": "code",
   "execution_count": 18,
   "id": "606536d2",
   "metadata": {},
   "outputs": [
    {
     "data": {
      "text/plain": [
       "5.4"
      ]
     },
     "execution_count": 18,
     "metadata": {},
     "output_type": "execute_result"
    }
   ],
   "source": [
    "max(tel['DataAmount'])"
   ]
  },
  {
   "cell_type": "markdown",
   "id": "8f116961",
   "metadata": {},
   "source": [
    "제일 데이터를 많이 사용한 이용자는 5.4GB를 썻다."
   ]
  },
  {
   "cell_type": "markdown",
   "id": "fe1ca45c",
   "metadata": {},
   "source": [
    "## 이용자들의 월별 평균 전화량과 전화수"
   ]
  },
  {
   "cell_type": "code",
   "execution_count": 19,
   "id": "bf92f35e",
   "metadata": {},
   "outputs": [
    {
     "data": {
      "text/plain": [
       "180"
      ]
     },
     "execution_count": 19,
     "metadata": {},
     "output_type": "execute_result"
    }
   ],
   "source": [
    "round(tel['CalMins'].mean())"
   ]
  },
  {
   "cell_type": "markdown",
   "id": "b8be3d26",
   "metadata": {},
   "source": [
    "이용자의 월별 평균 전화량은 약 180분으로 약 3시간이다."
   ]
  },
  {
   "cell_type": "code",
   "execution_count": 20,
   "id": "4dabf133",
   "metadata": {},
   "outputs": [
    {
     "data": {
      "text/plain": [
       "100"
      ]
     },
     "execution_count": 20,
     "metadata": {},
     "output_type": "execute_result"
    }
   ],
   "source": [
    "round(tel['CalCounts'].mean())"
   ]
  },
  {
   "cell_type": "markdown",
   "id": "b4511617",
   "metadata": {},
   "source": [
    "이용자의 월별 평균 전화 횟수는 약 100번이다."
   ]
  },
  {
   "cell_type": "markdown",
   "id": "192b2d4d",
   "metadata": {},
   "source": [
    "## 평균 전화량과 전화수를 넘는 사람의 수"
   ]
  },
  {
   "cell_type": "markdown",
   "id": "ebfe2833",
   "metadata": {},
   "source": [
    "월별 평균 전화량은 180분이고 횟수가 100번이면 일일 전화량은 6분, 횟수는 3~4회정도를 해야된다.<br>\n",
    "제가 생각 했을 때에는 많은 사람들이 둘다 충족하지는 않을거라 생각이 되서 과연 평균 전화량과 전화수를 넘는 사람이 몇명이 있는지 궁금했다."
   ]
  },
  {
   "cell_type": "code",
   "execution_count": 21,
   "id": "8b084032",
   "metadata": {},
   "outputs": [],
   "source": [
    "cal_mins = (tel['CalMins'] >= 180)\n",
    "cal_counts = (tel['CalCounts'] >= 100)\n",
    "cal_total = cal_mins & cal_counts"
   ]
  },
  {
   "cell_type": "code",
   "execution_count": 22,
   "id": "6a12bf19",
   "metadata": {},
   "outputs": [
    {
     "data": {
      "text/plain": [
       "False    2452\n",
       "True      881\n",
       "dtype: int64"
      ]
     },
     "execution_count": 22,
     "metadata": {},
     "output_type": "execute_result"
    }
   ],
   "source": [
    "cal_total.value_counts()"
   ]
  },
  {
   "cell_type": "code",
   "execution_count": 23,
   "id": "32238ac7",
   "metadata": {},
   "outputs": [
    {
     "data": {
      "text/plain": [
       "26"
      ]
     },
     "execution_count": 23,
     "metadata": {},
     "output_type": "execute_result"
    }
   ],
   "source": [
    "round((881/3333)*100)"
   ]
  },
  {
   "cell_type": "markdown",
   "id": "09ac0126",
   "metadata": {},
   "source": [
    "평균 전화량과 전화횟수가 넘는 사람은 총 881명으로 약 26%의 이용자들이 넘는다."
   ]
  },
  {
   "cell_type": "markdown",
   "id": "c03ce1b4",
   "metadata": {},
   "source": [
    "---"
   ]
  },
  {
   "cell_type": "markdown",
   "id": "7252ae3f",
   "metadata": {},
   "source": [
    "## 월 평균 요금"
   ]
  },
  {
   "cell_type": "code",
   "execution_count": 24,
   "id": "6d1dcd59",
   "metadata": {},
   "outputs": [
    {
     "data": {
      "text/plain": [
       "<AxesSubplot:>"
      ]
     },
     "execution_count": 24,
     "metadata": {},
     "output_type": "execute_result"
    },
    {
     "data": {
      "image/png": "[encoded data removed]",
      "text/plain": [
       "<Figure size 432x288 with 1 Axes>"
      ]
     },
     "metadata": {
      "needs_background": "light"
     },
     "output_type": "display_data"
    }
   ],
   "source": [
    "tel['MonthlyFee'].hist()"
   ]
  },
  {
   "cell_type": "markdown",
   "id": "1773fb67",
   "metadata": {},
   "source": [
    "대부분 평균 요금이 50~60인 고객들이 많다.<br>\\\n",
    "그래프로 보면 평균보다 2배 높은 100을 넘는 사람들도 보인다."
   ]
  },
  {
   "cell_type": "markdown",
   "id": "c833508e",
   "metadata": {},
   "source": [
    "## 월 평균 요금이 25이하의 사람들과 100의 사람들의 사용량 비교"
   ]
  },
  {
   "cell_type": "code",
   "execution_count": 25,
   "id": "dd65cffa",
   "metadata": {},
   "outputs": [],
   "source": [
    "tel_Fee_25 = (tel['MonthlyFee'] <= 25)\n",
    "tel_Fee_100 = (tel['MonthlyFee'] >= 100)"
   ]
  },
  {
   "cell_type": "code",
   "execution_count": 26,
   "id": "d3e4b143",
   "metadata": {},
   "outputs": [
    {
     "data": {
      "text/plain": [
       "False    3303\n",
       "True       30\n",
       "Name: MonthlyFee, dtype: int64"
      ]
     },
     "execution_count": 26,
     "metadata": {},
     "output_type": "execute_result"
    }
   ],
   "source": [
    "tel_Fee_25.value_counts() #월 평균 요금이 25이하인 사람들은 30명이다"
   ]
  },
  {
   "cell_type": "code",
   "execution_count": 27,
   "id": "10e4c6da",
   "metadata": {},
   "outputs": [
    {
     "data": {
      "text/plain": [
       "False    3300\n",
       "True       33\n",
       "Name: MonthlyFee, dtype: int64"
      ]
     },
     "execution_count": 27,
     "metadata": {},
     "output_type": "execute_result"
    }
   ],
   "source": [
    "tel_Fee_100.value_counts() #월 평균 요금이 100이상인 사람들은 33명이다."
   ]
  },
  {
   "cell_type": "code",
   "execution_count": 28,
   "id": "5c919f88",
   "metadata": {},
   "outputs": [],
   "source": [
    "cols = ['DataAmount','CalMins','CalCounts']"
   ]
  },
  {
   "cell_type": "code",
   "execution_count": 29,
   "id": "edbc7a18",
   "metadata": {
    "scrolled": true
   },
   "outputs": [
    {
     "data": {
      "text/html": [
       "<div>\n",
       "<style scoped>\n",
       "    .dataframe tbody tr th:only-of-type {\n",
       "        vertical-align: middle;\n",
       "    }\n",
       "\n",
       "    .dataframe tbody tr th {\n",
       "        vertical-align: top;\n",
       "    }\n",
       "\n",
       "    .dataframe thead th {\n",
       "        text-align: right;\n",
       "    }\n",
       "</style>\n",
       "<table border=\"1\" class=\"dataframe\">\n",
       "  <thead>\n",
       "    <tr style=\"text-align: right;\">\n",
       "      <th></th>\n",
       "      <th>DataAmount</th>\n",
       "      <th>CalMins</th>\n",
       "      <th>CalCounts</th>\n",
       "    </tr>\n",
       "  </thead>\n",
       "  <tbody>\n",
       "    <tr>\n",
       "      <th>77</th>\n",
       "      <td>0.21</td>\n",
       "      <td>61.6</td>\n",
       "      <td>117</td>\n",
       "    </tr>\n",
       "    <tr>\n",
       "      <th>114</th>\n",
       "      <td>0.00</td>\n",
       "      <td>58.9</td>\n",
       "      <td>125</td>\n",
       "    </tr>\n",
       "    <tr>\n",
       "      <th>181</th>\n",
       "      <td>0.00</td>\n",
       "      <td>58.2</td>\n",
       "      <td>94</td>\n",
       "    </tr>\n",
       "    <tr>\n",
       "      <th>472</th>\n",
       "      <td>0.00</td>\n",
       "      <td>69.1</td>\n",
       "      <td>117</td>\n",
       "    </tr>\n",
       "    <tr>\n",
       "      <th>523</th>\n",
       "      <td>0.00</td>\n",
       "      <td>45.0</td>\n",
       "      <td>108</td>\n",
       "    </tr>\n",
       "    <tr>\n",
       "      <th>585</th>\n",
       "      <td>0.00</td>\n",
       "      <td>55.3</td>\n",
       "      <td>102</td>\n",
       "    </tr>\n",
       "    <tr>\n",
       "      <th>821</th>\n",
       "      <td>0.00</td>\n",
       "      <td>105.8</td>\n",
       "      <td>110</td>\n",
       "    </tr>\n",
       "    <tr>\n",
       "      <th>834</th>\n",
       "      <td>0.00</td>\n",
       "      <td>76.4</td>\n",
       "      <td>116</td>\n",
       "    </tr>\n",
       "    <tr>\n",
       "      <th>925</th>\n",
       "      <td>0.00</td>\n",
       "      <td>84.2</td>\n",
       "      <td>134</td>\n",
       "    </tr>\n",
       "    <tr>\n",
       "      <th>1052</th>\n",
       "      <td>0.00</td>\n",
       "      <td>12.5</td>\n",
       "      <td>67</td>\n",
       "    </tr>\n",
       "    <tr>\n",
       "      <th>1130</th>\n",
       "      <td>0.00</td>\n",
       "      <td>35.1</td>\n",
       "      <td>62</td>\n",
       "    </tr>\n",
       "    <tr>\n",
       "      <th>1345</th>\n",
       "      <td>0.00</td>\n",
       "      <td>0.0</td>\n",
       "      <td>0</td>\n",
       "    </tr>\n",
       "    <tr>\n",
       "      <th>1397</th>\n",
       "      <td>0.30</td>\n",
       "      <td>0.0</td>\n",
       "      <td>0</td>\n",
       "    </tr>\n",
       "    <tr>\n",
       "      <th>1475</th>\n",
       "      <td>0.00</td>\n",
       "      <td>104.7</td>\n",
       "      <td>112</td>\n",
       "    </tr>\n",
       "    <tr>\n",
       "      <th>1531</th>\n",
       "      <td>0.00</td>\n",
       "      <td>46.5</td>\n",
       "      <td>104</td>\n",
       "    </tr>\n",
       "    <tr>\n",
       "      <th>1538</th>\n",
       "      <td>0.00</td>\n",
       "      <td>61.2</td>\n",
       "      <td>111</td>\n",
       "    </tr>\n",
       "    <tr>\n",
       "      <th>1642</th>\n",
       "      <td>0.00</td>\n",
       "      <td>54.8</td>\n",
       "      <td>92</td>\n",
       "    </tr>\n",
       "    <tr>\n",
       "      <th>1687</th>\n",
       "      <td>0.00</td>\n",
       "      <td>37.8</td>\n",
       "      <td>80</td>\n",
       "    </tr>\n",
       "    <tr>\n",
       "      <th>1986</th>\n",
       "      <td>0.27</td>\n",
       "      <td>7.9</td>\n",
       "      <td>100</td>\n",
       "    </tr>\n",
       "    <tr>\n",
       "      <th>2124</th>\n",
       "      <td>0.38</td>\n",
       "      <td>27.0</td>\n",
       "      <td>117</td>\n",
       "    </tr>\n",
       "    <tr>\n",
       "      <th>2173</th>\n",
       "      <td>0.00</td>\n",
       "      <td>47.8</td>\n",
       "      <td>120</td>\n",
       "    </tr>\n",
       "    <tr>\n",
       "      <th>2252</th>\n",
       "      <td>0.00</td>\n",
       "      <td>17.6</td>\n",
       "      <td>121</td>\n",
       "    </tr>\n",
       "    <tr>\n",
       "      <th>2509</th>\n",
       "      <td>0.00</td>\n",
       "      <td>73.8</td>\n",
       "      <td>105</td>\n",
       "    </tr>\n",
       "    <tr>\n",
       "      <th>2703</th>\n",
       "      <td>0.00</td>\n",
       "      <td>49.2</td>\n",
       "      <td>121</td>\n",
       "    </tr>\n",
       "    <tr>\n",
       "      <th>2707</th>\n",
       "      <td>0.00</td>\n",
       "      <td>40.4</td>\n",
       "      <td>105</td>\n",
       "    </tr>\n",
       "    <tr>\n",
       "      <th>2753</th>\n",
       "      <td>0.00</td>\n",
       "      <td>7.8</td>\n",
       "      <td>86</td>\n",
       "    </tr>\n",
       "    <tr>\n",
       "      <th>2762</th>\n",
       "      <td>0.00</td>\n",
       "      <td>51.5</td>\n",
       "      <td>90</td>\n",
       "    </tr>\n",
       "    <tr>\n",
       "      <th>2798</th>\n",
       "      <td>0.00</td>\n",
       "      <td>54.0</td>\n",
       "      <td>68</td>\n",
       "    </tr>\n",
       "    <tr>\n",
       "      <th>2859</th>\n",
       "      <td>0.00</td>\n",
       "      <td>58.0</td>\n",
       "      <td>125</td>\n",
       "    </tr>\n",
       "    <tr>\n",
       "      <th>3078</th>\n",
       "      <td>0.00</td>\n",
       "      <td>86.8</td>\n",
       "      <td>95</td>\n",
       "    </tr>\n",
       "  </tbody>\n",
       "</table>\n",
       "</div>"
      ],
      "text/plain": [
       "      DataAmount  CalMins  CalCounts\n",
       "77          0.21     61.6        117\n",
       "114         0.00     58.9        125\n",
       "181         0.00     58.2         94\n",
       "472         0.00     69.1        117\n",
       "523         0.00     45.0        108\n",
       "585         0.00     55.3        102\n",
       "821         0.00    105.8        110\n",
       "834         0.00     76.4        116\n",
       "925         0.00     84.2        134\n",
       "1052        0.00     12.5         67\n",
       "1130        0.00     35.1         62\n",
       "1345        0.00      0.0          0\n",
       "1397        0.30      0.0          0\n",
       "1475        0.00    104.7        112\n",
       "1531        0.00     46.5        104\n",
       "1538        0.00     61.2        111\n",
       "1642        0.00     54.8         92\n",
       "1687        0.00     37.8         80\n",
       "1986        0.27      7.9        100\n",
       "2124        0.38     27.0        117\n",
       "2173        0.00     47.8        120\n",
       "2252        0.00     17.6        121\n",
       "2509        0.00     73.8        105\n",
       "2703        0.00     49.2        121\n",
       "2707        0.00     40.4        105\n",
       "2753        0.00      7.8         86\n",
       "2762        0.00     51.5         90\n",
       "2798        0.00     54.0         68\n",
       "2859        0.00     58.0        125\n",
       "3078        0.00     86.8         95"
      ]
     },
     "execution_count": 29,
     "metadata": {},
     "output_type": "execute_result"
    }
   ],
   "source": [
    "Fee_25 = tel.loc[tel_Fee_25,cols]\n",
    "Fee_25 "
   ]
  },
  {
   "cell_type": "code",
   "execution_count": 30,
   "id": "80922231",
   "metadata": {
    "scrolled": true
   },
   "outputs": [
    {
     "data": {
      "text/html": [
       "<div>\n",
       "<style scoped>\n",
       "    .dataframe tbody tr th:only-of-type {\n",
       "        vertical-align: middle;\n",
       "    }\n",
       "\n",
       "    .dataframe tbody tr th {\n",
       "        vertical-align: top;\n",
       "    }\n",
       "\n",
       "    .dataframe thead th {\n",
       "        text-align: right;\n",
       "    }\n",
       "</style>\n",
       "<table border=\"1\" class=\"dataframe\">\n",
       "  <thead>\n",
       "    <tr style=\"text-align: right;\">\n",
       "      <th></th>\n",
       "      <th>DataAmount</th>\n",
       "      <th>CalMins</th>\n",
       "      <th>CalCounts</th>\n",
       "    </tr>\n",
       "  </thead>\n",
       "  <tbody>\n",
       "    <tr>\n",
       "      <th>115</th>\n",
       "      <td>5.40</td>\n",
       "      <td>196.8</td>\n",
       "      <td>89</td>\n",
       "    </tr>\n",
       "    <tr>\n",
       "      <th>198</th>\n",
       "      <td>3.73</td>\n",
       "      <td>292.9</td>\n",
       "      <td>101</td>\n",
       "    </tr>\n",
       "    <tr>\n",
       "      <th>228</th>\n",
       "      <td>3.59</td>\n",
       "      <td>280.2</td>\n",
       "      <td>136</td>\n",
       "    </tr>\n",
       "    <tr>\n",
       "      <th>469</th>\n",
       "      <td>4.64</td>\n",
       "      <td>194.4</td>\n",
       "      <td>63</td>\n",
       "    </tr>\n",
       "    <tr>\n",
       "      <th>514</th>\n",
       "      <td>3.78</td>\n",
       "      <td>265.9</td>\n",
       "      <td>113</td>\n",
       "    </tr>\n",
       "    <tr>\n",
       "      <th>542</th>\n",
       "      <td>3.83</td>\n",
       "      <td>237.5</td>\n",
       "      <td>120</td>\n",
       "    </tr>\n",
       "    <tr>\n",
       "      <th>569</th>\n",
       "      <td>4.16</td>\n",
       "      <td>221.1</td>\n",
       "      <td>137</td>\n",
       "    </tr>\n",
       "    <tr>\n",
       "      <th>575</th>\n",
       "      <td>3.83</td>\n",
       "      <td>309.9</td>\n",
       "      <td>90</td>\n",
       "    </tr>\n",
       "    <tr>\n",
       "      <th>579</th>\n",
       "      <td>4.46</td>\n",
       "      <td>186.7</td>\n",
       "      <td>108</td>\n",
       "    </tr>\n",
       "    <tr>\n",
       "      <th>646</th>\n",
       "      <td>4.16</td>\n",
       "      <td>235.6</td>\n",
       "      <td>74</td>\n",
       "    </tr>\n",
       "    <tr>\n",
       "      <th>670</th>\n",
       "      <td>4.40</td>\n",
       "      <td>266.7</td>\n",
       "      <td>109</td>\n",
       "    </tr>\n",
       "    <tr>\n",
       "      <th>688</th>\n",
       "      <td>3.27</td>\n",
       "      <td>315.6</td>\n",
       "      <td>105</td>\n",
       "    </tr>\n",
       "    <tr>\n",
       "      <th>839</th>\n",
       "      <td>4.35</td>\n",
       "      <td>219.5</td>\n",
       "      <td>78</td>\n",
       "    </tr>\n",
       "    <tr>\n",
       "      <th>1025</th>\n",
       "      <td>3.32</td>\n",
       "      <td>252.9</td>\n",
       "      <td>129</td>\n",
       "    </tr>\n",
       "    <tr>\n",
       "      <th>1041</th>\n",
       "      <td>4.35</td>\n",
       "      <td>240.4</td>\n",
       "      <td>112</td>\n",
       "    </tr>\n",
       "    <tr>\n",
       "      <th>1097</th>\n",
       "      <td>3.51</td>\n",
       "      <td>279.9</td>\n",
       "      <td>121</td>\n",
       "    </tr>\n",
       "    <tr>\n",
       "      <th>1136</th>\n",
       "      <td>3.89</td>\n",
       "      <td>270.3</td>\n",
       "      <td>111</td>\n",
       "    </tr>\n",
       "    <tr>\n",
       "      <th>1355</th>\n",
       "      <td>3.67</td>\n",
       "      <td>302.7</td>\n",
       "      <td>93</td>\n",
       "    </tr>\n",
       "    <tr>\n",
       "      <th>1645</th>\n",
       "      <td>3.05</td>\n",
       "      <td>283.1</td>\n",
       "      <td>112</td>\n",
       "    </tr>\n",
       "    <tr>\n",
       "      <th>1802</th>\n",
       "      <td>3.73</td>\n",
       "      <td>254.2</td>\n",
       "      <td>78</td>\n",
       "    </tr>\n",
       "    <tr>\n",
       "      <th>1821</th>\n",
       "      <td>4.16</td>\n",
       "      <td>270.4</td>\n",
       "      <td>99</td>\n",
       "    </tr>\n",
       "    <tr>\n",
       "      <th>2122</th>\n",
       "      <td>4.43</td>\n",
       "      <td>268.8</td>\n",
       "      <td>78</td>\n",
       "    </tr>\n",
       "    <tr>\n",
       "      <th>2229</th>\n",
       "      <td>4.75</td>\n",
       "      <td>191.3</td>\n",
       "      <td>95</td>\n",
       "    </tr>\n",
       "    <tr>\n",
       "      <th>2260</th>\n",
       "      <td>3.51</td>\n",
       "      <td>288.5</td>\n",
       "      <td>114</td>\n",
       "    </tr>\n",
       "    <tr>\n",
       "      <th>2435</th>\n",
       "      <td>2.78</td>\n",
       "      <td>286.6</td>\n",
       "      <td>79</td>\n",
       "    </tr>\n",
       "    <tr>\n",
       "      <th>2478</th>\n",
       "      <td>3.56</td>\n",
       "      <td>305.2</td>\n",
       "      <td>80</td>\n",
       "    </tr>\n",
       "    <tr>\n",
       "      <th>2605</th>\n",
       "      <td>3.81</td>\n",
       "      <td>243.4</td>\n",
       "      <td>126</td>\n",
       "    </tr>\n",
       "    <tr>\n",
       "      <th>2687</th>\n",
       "      <td>4.59</td>\n",
       "      <td>260.8</td>\n",
       "      <td>81</td>\n",
       "    </tr>\n",
       "    <tr>\n",
       "      <th>2764</th>\n",
       "      <td>4.02</td>\n",
       "      <td>245.0</td>\n",
       "      <td>88</td>\n",
       "    </tr>\n",
       "    <tr>\n",
       "      <th>2793</th>\n",
       "      <td>3.89</td>\n",
       "      <td>283.4</td>\n",
       "      <td>104</td>\n",
       "    </tr>\n",
       "    <tr>\n",
       "      <th>3077</th>\n",
       "      <td>3.86</td>\n",
       "      <td>214.7</td>\n",
       "      <td>86</td>\n",
       "    </tr>\n",
       "    <tr>\n",
       "      <th>3207</th>\n",
       "      <td>3.16</td>\n",
       "      <td>306.2</td>\n",
       "      <td>123</td>\n",
       "    </tr>\n",
       "    <tr>\n",
       "      <th>3332</th>\n",
       "      <td>3.70</td>\n",
       "      <td>234.4</td>\n",
       "      <td>113</td>\n",
       "    </tr>\n",
       "  </tbody>\n",
       "</table>\n",
       "</div>"
      ],
      "text/plain": [
       "      DataAmount  CalMins  CalCounts\n",
       "115         5.40    196.8         89\n",
       "198         3.73    292.9        101\n",
       "228         3.59    280.2        136\n",
       "469         4.64    194.4         63\n",
       "514         3.78    265.9        113\n",
       "542         3.83    237.5        120\n",
       "569         4.16    221.1        137\n",
       "575         3.83    309.9         90\n",
       "579         4.46    186.7        108\n",
       "646         4.16    235.6         74\n",
       "670         4.40    266.7        109\n",
       "688         3.27    315.6        105\n",
       "839         4.35    219.5         78\n",
       "1025        3.32    252.9        129\n",
       "1041        4.35    240.4        112\n",
       "1097        3.51    279.9        121\n",
       "1136        3.89    270.3        111\n",
       "1355        3.67    302.7         93\n",
       "1645        3.05    283.1        112\n",
       "1802        3.73    254.2         78\n",
       "1821        4.16    270.4         99\n",
       "2122        4.43    268.8         78\n",
       "2229        4.75    191.3         95\n",
       "2260        3.51    288.5        114\n",
       "2435        2.78    286.6         79\n",
       "2478        3.56    305.2         80\n",
       "2605        3.81    243.4        126\n",
       "2687        4.59    260.8         81\n",
       "2764        4.02    245.0         88\n",
       "2793        3.89    283.4        104\n",
       "3077        3.86    214.7         86\n",
       "3207        3.16    306.2        123\n",
       "3332        3.70    234.4        113"
      ]
     },
     "execution_count": 30,
     "metadata": {},
     "output_type": "execute_result"
    }
   ],
   "source": [
    "Fee_100 = tel.loc[tel_Fee_100,cols]\n",
    "Fee_100"
   ]
  },
  {
   "cell_type": "code",
   "execution_count": 31,
   "id": "0571a9dc",
   "metadata": {
    "scrolled": true
   },
   "outputs": [
    {
     "data": {
      "text/plain": [
       "DataAmount     0.038667\n",
       "CalMins       49.630000\n",
       "CalCounts     96.800000\n",
       "dtype: float64"
      ]
     },
     "execution_count": 31,
     "metadata": {},
     "output_type": "execute_result"
    }
   ],
   "source": [
    "Fee_25_re = Fee_25.mean()\n",
    "Fee_25_re"
   ]
  },
  {
   "cell_type": "markdown",
   "id": "f688ce72",
   "metadata": {},
   "source": [
    "### 월 평균 요금이 25 이하인 사람들의 사용량\n",
    "데이터 사용량 : 0.04GB <br> 월별 평균 전화량 : 50분 <br> 월별 평균 전화횟수 : 97회"
   ]
  },
  {
   "cell_type": "code",
   "execution_count": 32,
   "id": "895e3fdf",
   "metadata": {},
   "outputs": [
    {
     "data": {
      "text/plain": [
       "DataAmount      3.919394\n",
       "CalMins       257.727273\n",
       "CalCounts     101.363636\n",
       "dtype: float64"
      ]
     },
     "execution_count": 32,
     "metadata": {},
     "output_type": "execute_result"
    }
   ],
   "source": [
    "Fee_100_re = Fee_100.mean()\n",
    "Fee_100_re"
   ]
  },
  {
   "cell_type": "markdown",
   "id": "3838bba4",
   "metadata": {},
   "source": [
    "### 월 평균 요금이 100 이상인 사람들의 사용량\n",
    "데이터 사용량 : 3.92GB <br> 월별 평균 전화량 : 258분 <br> 월별 평균 전화횟수 : 101회"
   ]
  },
  {
   "cell_type": "markdown",
   "id": "0607dc0c",
   "metadata": {},
   "source": [
    "## 비교 \n",
    "데이터 사용량 차이 : 3.88GB <br>\n",
    "월별 평균 전화량 : 202분 <br>\n",
    "월별 평균 전화횟수 : 4회\n",
    "\n",
    "\n",
    "### 전화횟수 차이는 별로 없지만 데이터 사용량과 전화량 차이는 엄청 많이 난다는 것을 알 수 있다."
   ]
  },
  {
   "cell_type": "markdown",
   "id": "58e61763",
   "metadata": {},
   "source": [
    "---"
   ]
  },
  {
   "cell_type": "markdown",
   "id": "c9c40314",
   "metadata": {},
   "source": [
    "## 평균 이상으로 데이터, 전화를 한 이용자의 가입기간"
   ]
  },
  {
   "cell_type": "markdown",
   "id": "5eaa3fb6",
   "metadata": {},
   "source": [
    "평균 데이터 사용량 : 0.82GB <br>\n",
    "평균 전화량 : 180분 <br>\n",
    "평균 전화 횟수 : 100회 <br>"
   ]
  },
  {
   "cell_type": "code",
   "execution_count": 35,
   "id": "3da9e457",
   "metadata": {},
   "outputs": [],
   "source": [
    "avg_data = (tel['DataAmount'] > tel['DataAmount'].mean())\n",
    "avg_mins = (tel['CalMins'] > tel['CalMins'].mean())\n",
    "avg_counts = (tel['CalCounts'] > tel['CalCounts'].mean())\n",
    "avg = avg_data & avg_mins & avg_counts"
   ]
  },
  {
   "cell_type": "code",
   "execution_count": 38,
   "id": "1de28eac",
   "metadata": {},
   "outputs": [
    {
     "data": {
      "text/plain": [
       "False    3102\n",
       "True      231\n",
       "dtype: int64"
      ]
     },
     "execution_count": 38,
     "metadata": {},
     "output_type": "execute_result"
    }
   ],
   "source": [
    "avg.value_counts()"
   ]
  },
  {
   "cell_type": "markdown",
   "id": "02751144",
   "metadata": {},
   "source": [
    "모든 사용량이 평균을 넘는 이용자는 총 231명이다."
   ]
  },
  {
   "cell_type": "code",
   "execution_count": 40,
   "id": "6877129b",
   "metadata": {},
   "outputs": [
    {
     "data": {
      "text/plain": [
       "0       128\n",
       "16       85\n",
       "26       57\n",
       "38      136\n",
       "57      121\n",
       "       ... \n",
       "3276    142\n",
       "3286    106\n",
       "3287    170\n",
       "3305     58\n",
       "3332     74\n",
       "Name: MemberWeeks, Length: 231, dtype: int64"
      ]
     },
     "execution_count": 40,
     "metadata": {},
     "output_type": "execute_result"
    }
   ],
   "source": [
    "tel_avg = tel.MemberWeeks.loc[avg]\n",
    "tel_avg"
   ]
  },
  {
   "cell_type": "code",
   "execution_count": 43,
   "id": "fffe3ed5",
   "metadata": {},
   "outputs": [
    {
     "data": {
      "text/plain": [
       "count    231.000000\n",
       "mean     101.515152\n",
       "std       40.087171\n",
       "min        1.000000\n",
       "25%       72.500000\n",
       "50%      104.000000\n",
       "75%      131.000000\n",
       "max      199.000000\n",
       "Name: MemberWeeks, dtype: float64"
      ]
     },
     "execution_count": 43,
     "metadata": {},
     "output_type": "execute_result"
    }
   ],
   "source": [
    "tel_avg.describe().T"
   ]
  },
  {
   "cell_type": "markdown",
   "id": "781946f6",
   "metadata": {},
   "source": [
    "가입 기간 평균 : 101주 <br>\n",
    "가입 기간 최대 : 199주 <br>\n",
    "가입 기간 최대 : 1주 "
   ]
  },
  {
   "cell_type": "code",
   "execution_count": 54,
   "id": "bbd4cb21",
   "metadata": {},
   "outputs": [
    {
     "data": {
      "text/plain": [
       "<bound method Axes.plot of <AxesSubplot:>>"
      ]
     },
     "execution_count": 54,
     "metadata": {},
     "output_type": "execute_result"
    },
    {
     "data": {
      "image/png": "[encoded data removed]",
      "text/plain": [
       "<Figure size 432x288 with 1 Axes>"
      ]
     },
     "metadata": {
      "needs_background": "light"
     },
     "output_type": "display_data"
    }
   ],
   "source": [
    "tel_avg.hist().plot"
   ]
  }
 ],
 "metadata": {
  "kernelspec": {
   "display_name": "Python 3",
   "language": "python",
   "name": "python3"
  },
  "language_info": {
   "codemirror_mode": {
    "name": "ipython",
    "version": 3
   },
   "file_extension": ".py",
   "mimetype": "text/x-python",
   "name": "python",
   "nbconvert_exporter": "python",
   "pygments_lexer": "ipython3",
   "version": "3.8.2"
  }
 },
 "nbformat": 4,
 "nbformat_minor": 5
}
